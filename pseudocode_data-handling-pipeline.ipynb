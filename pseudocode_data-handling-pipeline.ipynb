{
 "cells": [
  {
   "cell_type": "code",
   "execution_count": 3,
   "id": "5b326743",
   "metadata": {},
   "outputs": [],
   "source": [
    "import pandas as pd\n",
    "import numpy as np\n",
    "import seaborn as sns\n",
    "import os"
   ]
  },
  {
   "cell_type": "code",
   "execution_count": 4,
   "id": "f3288867",
   "metadata": {},
   "outputs": [],
   "source": [
    "# ----- SET UP ALL USER DEFINED CONSTANTS AND FILE INFO -----\n",
    "metadatafile = 'filename.csv'\n",
    "threshold_for_imaginary_data_analysis = 5 # in ms (add units)\n",
    "\n",
    "#variable that you might change such as huddle defined time (20 ms), define early -allows you to change easier\n",
    "\n",
    "\n",
    "make_duplicate_plots = True\n",
    "#might want some plots but not others to rerun"
   ]
  },
  {
   "cell_type": "code",
   "execution_count": 5,
   "id": "66c2fabc",
   "metadata": {},
   "outputs": [],
   "source": [
    "# ----- DEFINE SUPPORT FUNCTIONS IN ONE CELL -----\n",
    "# so that you only have to run it once"
   ]
  },
  {
   "cell_type": "code",
   "execution_count": null,
   "id": "9ac40dd0",
   "metadata": {},
   "outputs": [],
   "source": [
    "# ----- HANDLE ALL RAW DATA FILES -----\n",
    "\n",
    "# 1. Generate a list of all the files to work on\n",
    "metadatatable = pd.read_csv(metadatafile) # read metadata\n",
    "allfiles = metadatatable[files] # extract the file information from the metadata somehow\n",
    "\n",
    "# 2. Set up places to store all your eventual calculations\n",
    "winner_column = []\n",
    "PPI_column = []\n",
    "\n",
    "# 3. Iterate over that list\n",
    "for file in allfiles:\n",
    "    # 4. Load up file\n",
    "    thisdata = pd.read_csv(file)\n",
    "    \n",
    "    # 5. Do all of your computations by calling your functions\n",
    "    thiswinner = calculate_winner(thisdata)\n",
    "    thisPPI = calculate_PPI(thisdata)\n",
    "    thisBinnedByTime = calculate_time_bins(thisdata)\n",
    "    \n",
    "    # 6. Put all of your file calculations in group data table\n",
    "    winner_column.append(thiswinner) # etc\n",
    "    PPI_column.append(thisPPI)\n",
    "    \n",
    "#Make only one place with variable names that might come up over and over again in different forms -make life easier for yourself\n",
    "    \n",
    "# 7. Consolidate all of your calculations into big table\n",
    "newtable = metadatatable[relevant] + winner_column + PPI_column\n",
    "\n",
    "# 8. Save the table so you don't have to do all the file I/O next time\n",
    "newtable.to_csv('summary_table_231023.csv')"
   ]
  },
  {
   "cell_type": "code",
   "execution_count": null,
   "id": "76999386",
   "metadata": {},
   "outputs": [],
   "source": [
    "# ----- MAKE SOME PLOTS WITH YOUR DATA TABLE -----\n",
    "\n",
    "# Load summary table\n",
    "mydata = pd.readcsv('summary_table_231023.csv')\n",
    "\n",
    "# Manipulate data\n",
    "\n",
    "# Make plots"
   ]
  }
 ],
 "metadata": {
  "kernelspec": {
   "display_name": "Python 3 (ipykernel)",
   "language": "python",
   "name": "python3"
  },
  "language_info": {
   "codemirror_mode": {
    "name": "ipython",
    "version": 3
   },
   "file_extension": ".py",
   "mimetype": "text/x-python",
   "name": "python",
   "nbconvert_exporter": "python",
   "pygments_lexer": "ipython3",
   "version": "3.10.9"
  }
 },
 "nbformat": 4,
 "nbformat_minor": 5
}
