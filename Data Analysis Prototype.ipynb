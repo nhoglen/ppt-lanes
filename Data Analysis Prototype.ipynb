{
 "cells": [
  {
   "cell_type": "code",
   "execution_count": 1,
   "id": "cff6f07e",
   "metadata": {},
   "outputs": [],
   "source": [
    "#Import all the relevant packages\n",
    "import pandas as pd\n",
    "import numpy as np\n",
    "import seaborn as sns\n",
    "import os"
   ]
  },
  {
   "cell_type": "code",
   "execution_count": 2,
   "id": "219d97d8",
   "metadata": {},
   "outputs": [],
   "source": [
    "#Set up user defined constants and file info\n",
    "NCmetadatafile = '220211_2M1F_NaiveChoice_metadata.csv'\n",
    "FCmetadatafile = '220211_2F1M_final_metadata.csv'\n",
    "huddle_time = 20 #ms\n",
    "\n",
    "make_duplicate_plots = True"
   ]
  },
  {
   "cell_type": "code",
   "execution_count": 3,
   "id": "85c362ca",
   "metadata": {},
   "outputs": [],
   "source": [
    "#Define support functions in this cell\n"
   ]
  },
  {
   "cell_type": "code",
   "execution_count": 4,
   "id": "dee5545e",
   "metadata": {},
   "outputs": [
    {
     "ename": "FileNotFoundError",
     "evalue": "[Errno 2] No such file or directory: '220211_2M1F_NaiveChoice_metadata.csv'",
     "output_type": "error",
     "traceback": [
      "\u001b[1;31m---------------------------------------------------------------------------\u001b[0m",
      "\u001b[1;31mFileNotFoundError\u001b[0m                         Traceback (most recent call last)",
      "Cell \u001b[1;32mIn[4], line 4\u001b[0m\n\u001b[0;32m      1\u001b[0m \u001b[38;5;66;03m#Handle the raw data files\u001b[39;00m\n\u001b[0;32m      2\u001b[0m \n\u001b[0;32m      3\u001b[0m \u001b[38;5;66;03m#Generate a list of all the files to work on\u001b[39;00m\n\u001b[1;32m----> 4\u001b[0m NCmetadatatable \u001b[38;5;241m=\u001b[39m \u001b[43mpd\u001b[49m\u001b[38;5;241;43m.\u001b[39;49m\u001b[43mread_csv\u001b[49m\u001b[43m(\u001b[49m\u001b[43mNCmetadatafile\u001b[49m\u001b[43m)\u001b[49m\n\u001b[0;32m      6\u001b[0m data_dir \u001b[38;5;241m=\u001b[39m os\u001b[38;5;241m.\u001b[39mpath\u001b[38;5;241m.\u001b[39mjoin(\u001b[38;5;124m'\u001b[39m\u001b[38;5;124mC:\u001b[39m\u001b[38;5;130;01m\\\\\u001b[39;00m\u001b[38;5;124m'\u001b[39m,\u001b[38;5;124m'\u001b[39m\u001b[38;5;124mUsers\u001b[39m\u001b[38;5;124m'\u001b[39m,\u001b[38;5;124m'\u001b[39m\u001b[38;5;124mvashv\u001b[39m\u001b[38;5;124m'\u001b[39m,\u001b[38;5;124m'\u001b[39m\u001b[38;5;124mOneDrive\u001b[39m\u001b[38;5;124m'\u001b[39m,\u001b[38;5;124m'\u001b[39m\u001b[38;5;124mDocuments\u001b[39m\u001b[38;5;124m'\u001b[39m,\u001b[38;5;124m'\u001b[39m\u001b[38;5;124mGitHub\u001b[39m\u001b[38;5;124m'\u001b[39m,\u001b[38;5;124m'\u001b[39m\u001b[38;5;124mppt-lanes\u001b[39m\u001b[38;5;124m'\u001b[39m, \u001b[38;5;124m'\u001b[39m\u001b[38;5;124mdata_files\u001b[39m\u001b[38;5;124m'\u001b[39m)\n\u001b[0;32m      7\u001b[0m dir_list \u001b[38;5;241m=\u001b[39m os\u001b[38;5;241m.\u001b[39mlistdir(data_dir)\n",
      "File \u001b[1;32m~\\miniconda3\\envs\\F23rot\\lib\\site-packages\\pandas\\util\\_decorators.py:211\u001b[0m, in \u001b[0;36mdeprecate_kwarg.<locals>._deprecate_kwarg.<locals>.wrapper\u001b[1;34m(*args, **kwargs)\u001b[0m\n\u001b[0;32m    209\u001b[0m     \u001b[38;5;28;01melse\u001b[39;00m:\n\u001b[0;32m    210\u001b[0m         kwargs[new_arg_name] \u001b[38;5;241m=\u001b[39m new_arg_value\n\u001b[1;32m--> 211\u001b[0m \u001b[38;5;28;01mreturn\u001b[39;00m func(\u001b[38;5;241m*\u001b[39margs, \u001b[38;5;241m*\u001b[39m\u001b[38;5;241m*\u001b[39mkwargs)\n",
      "File \u001b[1;32m~\\miniconda3\\envs\\F23rot\\lib\\site-packages\\pandas\\util\\_decorators.py:331\u001b[0m, in \u001b[0;36mdeprecate_nonkeyword_arguments.<locals>.decorate.<locals>.wrapper\u001b[1;34m(*args, **kwargs)\u001b[0m\n\u001b[0;32m    325\u001b[0m \u001b[38;5;28;01mif\u001b[39;00m \u001b[38;5;28mlen\u001b[39m(args) \u001b[38;5;241m>\u001b[39m num_allow_args:\n\u001b[0;32m    326\u001b[0m     warnings\u001b[38;5;241m.\u001b[39mwarn(\n\u001b[0;32m    327\u001b[0m         msg\u001b[38;5;241m.\u001b[39mformat(arguments\u001b[38;5;241m=\u001b[39m_format_argument_list(allow_args)),\n\u001b[0;32m    328\u001b[0m         \u001b[38;5;167;01mFutureWarning\u001b[39;00m,\n\u001b[0;32m    329\u001b[0m         stacklevel\u001b[38;5;241m=\u001b[39mfind_stack_level(),\n\u001b[0;32m    330\u001b[0m     )\n\u001b[1;32m--> 331\u001b[0m \u001b[38;5;28;01mreturn\u001b[39;00m func(\u001b[38;5;241m*\u001b[39margs, \u001b[38;5;241m*\u001b[39m\u001b[38;5;241m*\u001b[39mkwargs)\n",
      "File \u001b[1;32m~\\miniconda3\\envs\\F23rot\\lib\\site-packages\\pandas\\io\\parsers\\readers.py:950\u001b[0m, in \u001b[0;36mread_csv\u001b[1;34m(filepath_or_buffer, sep, delimiter, header, names, index_col, usecols, squeeze, prefix, mangle_dupe_cols, dtype, engine, converters, true_values, false_values, skipinitialspace, skiprows, skipfooter, nrows, na_values, keep_default_na, na_filter, verbose, skip_blank_lines, parse_dates, infer_datetime_format, keep_date_col, date_parser, dayfirst, cache_dates, iterator, chunksize, compression, thousands, decimal, lineterminator, quotechar, quoting, doublequote, escapechar, comment, encoding, encoding_errors, dialect, error_bad_lines, warn_bad_lines, on_bad_lines, delim_whitespace, low_memory, memory_map, float_precision, storage_options)\u001b[0m\n\u001b[0;32m    935\u001b[0m kwds_defaults \u001b[38;5;241m=\u001b[39m _refine_defaults_read(\n\u001b[0;32m    936\u001b[0m     dialect,\n\u001b[0;32m    937\u001b[0m     delimiter,\n\u001b[1;32m   (...)\u001b[0m\n\u001b[0;32m    946\u001b[0m     defaults\u001b[38;5;241m=\u001b[39m{\u001b[38;5;124m\"\u001b[39m\u001b[38;5;124mdelimiter\u001b[39m\u001b[38;5;124m\"\u001b[39m: \u001b[38;5;124m\"\u001b[39m\u001b[38;5;124m,\u001b[39m\u001b[38;5;124m\"\u001b[39m},\n\u001b[0;32m    947\u001b[0m )\n\u001b[0;32m    948\u001b[0m kwds\u001b[38;5;241m.\u001b[39mupdate(kwds_defaults)\n\u001b[1;32m--> 950\u001b[0m \u001b[38;5;28;01mreturn\u001b[39;00m \u001b[43m_read\u001b[49m\u001b[43m(\u001b[49m\u001b[43mfilepath_or_buffer\u001b[49m\u001b[43m,\u001b[49m\u001b[43m \u001b[49m\u001b[43mkwds\u001b[49m\u001b[43m)\u001b[49m\n",
      "File \u001b[1;32m~\\miniconda3\\envs\\F23rot\\lib\\site-packages\\pandas\\io\\parsers\\readers.py:605\u001b[0m, in \u001b[0;36m_read\u001b[1;34m(filepath_or_buffer, kwds)\u001b[0m\n\u001b[0;32m    602\u001b[0m _validate_names(kwds\u001b[38;5;241m.\u001b[39mget(\u001b[38;5;124m\"\u001b[39m\u001b[38;5;124mnames\u001b[39m\u001b[38;5;124m\"\u001b[39m, \u001b[38;5;28;01mNone\u001b[39;00m))\n\u001b[0;32m    604\u001b[0m \u001b[38;5;66;03m# Create the parser.\u001b[39;00m\n\u001b[1;32m--> 605\u001b[0m parser \u001b[38;5;241m=\u001b[39m TextFileReader(filepath_or_buffer, \u001b[38;5;241m*\u001b[39m\u001b[38;5;241m*\u001b[39mkwds)\n\u001b[0;32m    607\u001b[0m \u001b[38;5;28;01mif\u001b[39;00m chunksize \u001b[38;5;129;01mor\u001b[39;00m iterator:\n\u001b[0;32m    608\u001b[0m     \u001b[38;5;28;01mreturn\u001b[39;00m parser\n",
      "File \u001b[1;32m~\\miniconda3\\envs\\F23rot\\lib\\site-packages\\pandas\\io\\parsers\\readers.py:1442\u001b[0m, in \u001b[0;36mTextFileReader.__init__\u001b[1;34m(self, f, engine, **kwds)\u001b[0m\n\u001b[0;32m   1439\u001b[0m     \u001b[38;5;28mself\u001b[39m\u001b[38;5;241m.\u001b[39moptions[\u001b[38;5;124m\"\u001b[39m\u001b[38;5;124mhas_index_names\u001b[39m\u001b[38;5;124m\"\u001b[39m] \u001b[38;5;241m=\u001b[39m kwds[\u001b[38;5;124m\"\u001b[39m\u001b[38;5;124mhas_index_names\u001b[39m\u001b[38;5;124m\"\u001b[39m]\n\u001b[0;32m   1441\u001b[0m \u001b[38;5;28mself\u001b[39m\u001b[38;5;241m.\u001b[39mhandles: IOHandles \u001b[38;5;241m|\u001b[39m \u001b[38;5;28;01mNone\u001b[39;00m \u001b[38;5;241m=\u001b[39m \u001b[38;5;28;01mNone\u001b[39;00m\n\u001b[1;32m-> 1442\u001b[0m \u001b[38;5;28mself\u001b[39m\u001b[38;5;241m.\u001b[39m_engine \u001b[38;5;241m=\u001b[39m \u001b[38;5;28;43mself\u001b[39;49m\u001b[38;5;241;43m.\u001b[39;49m\u001b[43m_make_engine\u001b[49m\u001b[43m(\u001b[49m\u001b[43mf\u001b[49m\u001b[43m,\u001b[49m\u001b[43m \u001b[49m\u001b[38;5;28;43mself\u001b[39;49m\u001b[38;5;241;43m.\u001b[39;49m\u001b[43mengine\u001b[49m\u001b[43m)\u001b[49m\n",
      "File \u001b[1;32m~\\miniconda3\\envs\\F23rot\\lib\\site-packages\\pandas\\io\\parsers\\readers.py:1735\u001b[0m, in \u001b[0;36mTextFileReader._make_engine\u001b[1;34m(self, f, engine)\u001b[0m\n\u001b[0;32m   1733\u001b[0m     \u001b[38;5;28;01mif\u001b[39;00m \u001b[38;5;124m\"\u001b[39m\u001b[38;5;124mb\u001b[39m\u001b[38;5;124m\"\u001b[39m \u001b[38;5;129;01mnot\u001b[39;00m \u001b[38;5;129;01min\u001b[39;00m mode:\n\u001b[0;32m   1734\u001b[0m         mode \u001b[38;5;241m+\u001b[39m\u001b[38;5;241m=\u001b[39m \u001b[38;5;124m\"\u001b[39m\u001b[38;5;124mb\u001b[39m\u001b[38;5;124m\"\u001b[39m\n\u001b[1;32m-> 1735\u001b[0m \u001b[38;5;28mself\u001b[39m\u001b[38;5;241m.\u001b[39mhandles \u001b[38;5;241m=\u001b[39m \u001b[43mget_handle\u001b[49m\u001b[43m(\u001b[49m\n\u001b[0;32m   1736\u001b[0m \u001b[43m    \u001b[49m\u001b[43mf\u001b[49m\u001b[43m,\u001b[49m\n\u001b[0;32m   1737\u001b[0m \u001b[43m    \u001b[49m\u001b[43mmode\u001b[49m\u001b[43m,\u001b[49m\n\u001b[0;32m   1738\u001b[0m \u001b[43m    \u001b[49m\u001b[43mencoding\u001b[49m\u001b[38;5;241;43m=\u001b[39;49m\u001b[38;5;28;43mself\u001b[39;49m\u001b[38;5;241;43m.\u001b[39;49m\u001b[43moptions\u001b[49m\u001b[38;5;241;43m.\u001b[39;49m\u001b[43mget\u001b[49m\u001b[43m(\u001b[49m\u001b[38;5;124;43m\"\u001b[39;49m\u001b[38;5;124;43mencoding\u001b[39;49m\u001b[38;5;124;43m\"\u001b[39;49m\u001b[43m,\u001b[49m\u001b[43m \u001b[49m\u001b[38;5;28;43;01mNone\u001b[39;49;00m\u001b[43m)\u001b[49m\u001b[43m,\u001b[49m\n\u001b[0;32m   1739\u001b[0m \u001b[43m    \u001b[49m\u001b[43mcompression\u001b[49m\u001b[38;5;241;43m=\u001b[39;49m\u001b[38;5;28;43mself\u001b[39;49m\u001b[38;5;241;43m.\u001b[39;49m\u001b[43moptions\u001b[49m\u001b[38;5;241;43m.\u001b[39;49m\u001b[43mget\u001b[49m\u001b[43m(\u001b[49m\u001b[38;5;124;43m\"\u001b[39;49m\u001b[38;5;124;43mcompression\u001b[39;49m\u001b[38;5;124;43m\"\u001b[39;49m\u001b[43m,\u001b[49m\u001b[43m \u001b[49m\u001b[38;5;28;43;01mNone\u001b[39;49;00m\u001b[43m)\u001b[49m\u001b[43m,\u001b[49m\n\u001b[0;32m   1740\u001b[0m \u001b[43m    \u001b[49m\u001b[43mmemory_map\u001b[49m\u001b[38;5;241;43m=\u001b[39;49m\u001b[38;5;28;43mself\u001b[39;49m\u001b[38;5;241;43m.\u001b[39;49m\u001b[43moptions\u001b[49m\u001b[38;5;241;43m.\u001b[39;49m\u001b[43mget\u001b[49m\u001b[43m(\u001b[49m\u001b[38;5;124;43m\"\u001b[39;49m\u001b[38;5;124;43mmemory_map\u001b[39;49m\u001b[38;5;124;43m\"\u001b[39;49m\u001b[43m,\u001b[49m\u001b[43m \u001b[49m\u001b[38;5;28;43;01mFalse\u001b[39;49;00m\u001b[43m)\u001b[49m\u001b[43m,\u001b[49m\n\u001b[0;32m   1741\u001b[0m \u001b[43m    \u001b[49m\u001b[43mis_text\u001b[49m\u001b[38;5;241;43m=\u001b[39;49m\u001b[43mis_text\u001b[49m\u001b[43m,\u001b[49m\n\u001b[0;32m   1742\u001b[0m \u001b[43m    \u001b[49m\u001b[43merrors\u001b[49m\u001b[38;5;241;43m=\u001b[39;49m\u001b[38;5;28;43mself\u001b[39;49m\u001b[38;5;241;43m.\u001b[39;49m\u001b[43moptions\u001b[49m\u001b[38;5;241;43m.\u001b[39;49m\u001b[43mget\u001b[49m\u001b[43m(\u001b[49m\u001b[38;5;124;43m\"\u001b[39;49m\u001b[38;5;124;43mencoding_errors\u001b[39;49m\u001b[38;5;124;43m\"\u001b[39;49m\u001b[43m,\u001b[49m\u001b[43m \u001b[49m\u001b[38;5;124;43m\"\u001b[39;49m\u001b[38;5;124;43mstrict\u001b[39;49m\u001b[38;5;124;43m\"\u001b[39;49m\u001b[43m)\u001b[49m\u001b[43m,\u001b[49m\n\u001b[0;32m   1743\u001b[0m \u001b[43m    \u001b[49m\u001b[43mstorage_options\u001b[49m\u001b[38;5;241;43m=\u001b[39;49m\u001b[38;5;28;43mself\u001b[39;49m\u001b[38;5;241;43m.\u001b[39;49m\u001b[43moptions\u001b[49m\u001b[38;5;241;43m.\u001b[39;49m\u001b[43mget\u001b[49m\u001b[43m(\u001b[49m\u001b[38;5;124;43m\"\u001b[39;49m\u001b[38;5;124;43mstorage_options\u001b[39;49m\u001b[38;5;124;43m\"\u001b[39;49m\u001b[43m,\u001b[49m\u001b[43m \u001b[49m\u001b[38;5;28;43;01mNone\u001b[39;49;00m\u001b[43m)\u001b[49m\u001b[43m,\u001b[49m\n\u001b[0;32m   1744\u001b[0m \u001b[43m\u001b[49m\u001b[43m)\u001b[49m\n\u001b[0;32m   1745\u001b[0m \u001b[38;5;28;01massert\u001b[39;00m \u001b[38;5;28mself\u001b[39m\u001b[38;5;241m.\u001b[39mhandles \u001b[38;5;129;01mis\u001b[39;00m \u001b[38;5;129;01mnot\u001b[39;00m \u001b[38;5;28;01mNone\u001b[39;00m\n\u001b[0;32m   1746\u001b[0m f \u001b[38;5;241m=\u001b[39m \u001b[38;5;28mself\u001b[39m\u001b[38;5;241m.\u001b[39mhandles\u001b[38;5;241m.\u001b[39mhandle\n",
      "File \u001b[1;32m~\\miniconda3\\envs\\F23rot\\lib\\site-packages\\pandas\\io\\common.py:856\u001b[0m, in \u001b[0;36mget_handle\u001b[1;34m(path_or_buf, mode, encoding, compression, memory_map, is_text, errors, storage_options)\u001b[0m\n\u001b[0;32m    851\u001b[0m \u001b[38;5;28;01melif\u001b[39;00m \u001b[38;5;28misinstance\u001b[39m(handle, \u001b[38;5;28mstr\u001b[39m):\n\u001b[0;32m    852\u001b[0m     \u001b[38;5;66;03m# Check whether the filename is to be opened in binary mode.\u001b[39;00m\n\u001b[0;32m    853\u001b[0m     \u001b[38;5;66;03m# Binary mode does not support 'encoding' and 'newline'.\u001b[39;00m\n\u001b[0;32m    854\u001b[0m     \u001b[38;5;28;01mif\u001b[39;00m ioargs\u001b[38;5;241m.\u001b[39mencoding \u001b[38;5;129;01mand\u001b[39;00m \u001b[38;5;124m\"\u001b[39m\u001b[38;5;124mb\u001b[39m\u001b[38;5;124m\"\u001b[39m \u001b[38;5;129;01mnot\u001b[39;00m \u001b[38;5;129;01min\u001b[39;00m ioargs\u001b[38;5;241m.\u001b[39mmode:\n\u001b[0;32m    855\u001b[0m         \u001b[38;5;66;03m# Encoding\u001b[39;00m\n\u001b[1;32m--> 856\u001b[0m         handle \u001b[38;5;241m=\u001b[39m \u001b[38;5;28;43mopen\u001b[39;49m\u001b[43m(\u001b[49m\n\u001b[0;32m    857\u001b[0m \u001b[43m            \u001b[49m\u001b[43mhandle\u001b[49m\u001b[43m,\u001b[49m\n\u001b[0;32m    858\u001b[0m \u001b[43m            \u001b[49m\u001b[43mioargs\u001b[49m\u001b[38;5;241;43m.\u001b[39;49m\u001b[43mmode\u001b[49m\u001b[43m,\u001b[49m\n\u001b[0;32m    859\u001b[0m \u001b[43m            \u001b[49m\u001b[43mencoding\u001b[49m\u001b[38;5;241;43m=\u001b[39;49m\u001b[43mioargs\u001b[49m\u001b[38;5;241;43m.\u001b[39;49m\u001b[43mencoding\u001b[49m\u001b[43m,\u001b[49m\n\u001b[0;32m    860\u001b[0m \u001b[43m            \u001b[49m\u001b[43merrors\u001b[49m\u001b[38;5;241;43m=\u001b[39;49m\u001b[43merrors\u001b[49m\u001b[43m,\u001b[49m\n\u001b[0;32m    861\u001b[0m \u001b[43m            \u001b[49m\u001b[43mnewline\u001b[49m\u001b[38;5;241;43m=\u001b[39;49m\u001b[38;5;124;43m\"\u001b[39;49m\u001b[38;5;124;43m\"\u001b[39;49m\u001b[43m,\u001b[49m\n\u001b[0;32m    862\u001b[0m \u001b[43m        \u001b[49m\u001b[43m)\u001b[49m\n\u001b[0;32m    863\u001b[0m     \u001b[38;5;28;01melse\u001b[39;00m:\n\u001b[0;32m    864\u001b[0m         \u001b[38;5;66;03m# Binary mode\u001b[39;00m\n\u001b[0;32m    865\u001b[0m         handle \u001b[38;5;241m=\u001b[39m \u001b[38;5;28mopen\u001b[39m(handle, ioargs\u001b[38;5;241m.\u001b[39mmode)\n",
      "\u001b[1;31mFileNotFoundError\u001b[0m: [Errno 2] No such file or directory: '220211_2M1F_NaiveChoice_metadata.csv'"
     ]
    }
   ],
   "source": [
    "#Handle the raw data files\n",
    "\n",
    "#Generate a list of all the files to work on\n",
    "NCmetadatatable = pd.read_csv(NCmetadatafile)\n",
    "\n",
    "data_dir = os.path.join('C:\\\\','Users','vashv','OneDrive','Documents','GitHub','ppt-lanes', 'data_files')\n",
    "dir_list = os.listdir(data_dir)\n",
    "NC_all_files = []\n",
    "NC_all_files += [os.path.join(data_dir, each) for each in os.listdir(data_dir) \n",
    "                 if each.endswith('.csv') and each.contains('NaiveChoice')]\n",
    "NC_all_files\n",
    "\n"
   ]
  },
  {
   "cell_type": "code",
   "execution_count": 18,
   "id": "0284ab56",
   "metadata": {},
   "outputs": [
    {
     "data": {
      "text/plain": [
       "'X210824_Lane4'"
      ]
     },
     "execution_count": 18,
     "metadata": {},
     "output_type": "execute_result"
    }
   ],
   "source": [
    "#Here we take the naive choice data and make it into Pd Data Frames\n",
    "\n",
    "NCmetadata = pd.read_csv('220211_2M1F_NaiveChoice_metadata.csv')\n",
    "X210225_Lane1 = pd.read_csv('220211_2M1F_NaiveChoice_X210225_Lane1_append.csv')\n",
    "X210225_Lane2 = pd.read_csv('220211_2M1F_NaiveChoice_X210225_Lane2_append.csv')\n",
    "X210225_Lane3 = pd.read_csv('220211_2M1F_NaiveChoice_X210225_Lane3_append.csv')\n",
    "X210225_Lane4 = pd.read_csv('220211_2M1F_NaiveChoice_X210225_Lane4_append.csv')\n",
    "X210226_Lane1 = pd.read_csv('220211_2M1F_NaiveChoice_X210226_Lane1_append.csv')\n",
    "X210226_Lane2 = pd.read_csv('220211_2M1F_NaiveChoice_X210226_Lane2_append.csv')\n",
    "X210226_Lane4 = pd.read_csv('220211_2M1F_NaiveChoice_X210226_Lane4_append.csv')\n",
    "X210318_Lane1 = pd.read_csv('220211_2M1F_NaiveChoice_X210318_Lane1_append.csv')\n",
    "X210318_Lane2 = pd.read_csv('220211_2M1F_NaiveChoice_X210318_Lane2_append.csv')\n",
    "X210318_Lane4 = pd.read_csv('220211_2M1F_NaiveChoice_X210318_Lane4_append.csv')\n",
    "X210401_Lane1 = pd.read_csv('220211_2M1F_NaiveChoice_X210401_Lane1_append.csv')\n",
    "X210401_Lane2 = pd.read_csv('220211_2M1F_NaiveChoice_X210401_Lane2_append.csv')\n",
    "X210401_Lane4 = pd.read_csv('220211_2M1F_NaiveChoice_X210401_Lane4_append.csv')\n",
    "X210824_Lane2 = pd.read_csv('220211_2M1F_NaiveChoice_X210824_Lane2_append.csv')\n",
    "X210824_Lane3 = pd.read_csv('220211_2M1F_NaiveChoice_X210824_Lane3_append.csv')\n",
    "X210824_Lane4 = pd.read_csv('220211_2M1F_NaiveChoice_X210824_Lane4_append.csv')\n",
    "\n",
    "naive_data = [X210225_Lane1,\n",
    "              X210225_Lane2,\n",
    "              X210225_Lane3,\n",
    "              X210225_Lane4,\n",
    "              X210226_Lane1,\n",
    "              X210226_Lane2,\n",
    "              X210226_Lane4,\n",
    "              X210318_Lane1,\n",
    "              X210318_Lane2,\n",
    "              X210318_Lane4,\n",
    "              X210401_Lane1,\n",
    "              X210401_Lane2,\n",
    "              X210401_Lane4,\n",
    "              X210824_Lane2,\n",
    "              X210824_Lane3,\n",
    "              X210824_Lane4,\n",
    "             ]\n",
    "\n",
    "#In order to read this, I needed to download and move the csv file into the same folder as my Github projects\n",
    "#and then I could reference it by name\n",
    "\n",
    "\n",
    "Lane = ['Lane1', 'Lane2', 'Lane3', 'Lane4', 'Lane1', 'Lane2', 'Lane4','Lane1','Lane2','Lane4','Lane1','Lane2','Lane4', 'Lane2','Lane3','Lane4']\n",
    "\n",
    "\n",
    "\n",
    "nameof(X210824_Lane4)"
   ]
  },
  {
   "cell_type": "code",
   "execution_count": 28,
   "id": "5b305785",
   "metadata": {},
   "outputs": [
    {
     "ename": "ImproperUseError",
     "evalue": "Argument Call(func=Name(id='str', ctx=Load()), args=[Subscript(value=Name(id='naive_data', ctx=Load()), slice=Constant(value=1), ctx=Load())], keywords=[]) is not a variable or an attribute.",
     "output_type": "error",
     "traceback": [
      "\u001b[1;31m---------------------------------------------------------------------------\u001b[0m",
      "\u001b[1;31mImproperUseError\u001b[0m                          Traceback (most recent call last)",
      "Cell \u001b[1;32mIn[28], line 10\u001b[0m\n\u001b[0;32m      6\u001b[0m         name_of_dataset\u001b[38;5;241m.\u001b[39mappend(nameof(set_of_datasets[i]))\n\u001b[0;32m      7\u001b[0m     \u001b[38;5;28;01mreturn\u001b[39;00m name_of_dataset\n\u001b[1;32m---> 10\u001b[0m \u001b[43mnameof\u001b[49m\u001b[43m(\u001b[49m\u001b[38;5;28;43mstr\u001b[39;49m\u001b[43m(\u001b[49m\u001b[43mnaive_data\u001b[49m\u001b[43m[\u001b[49m\u001b[38;5;241;43m1\u001b[39;49m\u001b[43m]\u001b[49m\u001b[43m)\u001b[49m\u001b[43m)\u001b[49m\n",
      "File \u001b[1;32m~\\miniconda3\\envs\\F23rot\\lib\\site-packages\\varname\\core.py:333\u001b[0m, in \u001b[0;36mnameof\u001b[1;34m(var, frame, vars_only, *more_vars)\u001b[0m\n\u001b[0;32m    323\u001b[0m         \u001b[38;5;28;01mraise\u001b[39;00m VarnameRetrievingError(\n\u001b[0;32m    324\u001b[0m             \u001b[38;5;124m\"\u001b[39m\u001b[38;5;124mAre you trying to call nameof from exec/eval? \u001b[39m\u001b[38;5;124m\"\u001b[39m\n\u001b[0;32m    325\u001b[0m             \u001b[38;5;124m\"\u001b[39m\u001b[38;5;124mIn such a case, nameof can only be called with single \u001b[39m\u001b[38;5;124m\"\u001b[39m\n\u001b[0;32m    326\u001b[0m             \u001b[38;5;124m\"\u001b[39m\u001b[38;5;124margument and no keyword arguments.\u001b[39m\u001b[38;5;124m\"\u001b[39m\n\u001b[0;32m    327\u001b[0m         )\n\u001b[0;32m    328\u001b[0m     \u001b[38;5;28;01mraise\u001b[39;00m VarnameRetrievingError(\n\u001b[0;32m    329\u001b[0m         \u001b[38;5;124m\"\u001b[39m\u001b[38;5;124mSource code unavailable, nameof can only retrieve the name of \u001b[39m\u001b[38;5;124m\"\u001b[39m\n\u001b[0;32m    330\u001b[0m         \u001b[38;5;124m\"\u001b[39m\u001b[38;5;124ma single variable, and argument `full` should not be specified.\u001b[39m\u001b[38;5;124m\"\u001b[39m\n\u001b[0;32m    331\u001b[0m     )\n\u001b[1;32m--> 333\u001b[0m out \u001b[38;5;241m=\u001b[39m \u001b[43margname\u001b[49m\u001b[43m(\u001b[49m\n\u001b[0;32m    334\u001b[0m \u001b[43m    \u001b[49m\u001b[38;5;124;43m\"\u001b[39;49m\u001b[38;5;124;43mvar\u001b[39;49m\u001b[38;5;124;43m\"\u001b[39;49m\u001b[43m,\u001b[49m\n\u001b[0;32m    335\u001b[0m \u001b[43m    \u001b[49m\u001b[38;5;124;43m\"\u001b[39;49m\u001b[38;5;124;43m*more_vars\u001b[39;49m\u001b[38;5;124;43m\"\u001b[39;49m\u001b[43m,\u001b[49m\n\u001b[0;32m    336\u001b[0m \u001b[43m    \u001b[49m\u001b[43mfunc\u001b[49m\u001b[38;5;241;43m=\u001b[39;49m\u001b[43mnameof\u001b[49m\u001b[43m,\u001b[49m\n\u001b[0;32m    337\u001b[0m \u001b[43m    \u001b[49m\u001b[43mframe\u001b[49m\u001b[38;5;241;43m=\u001b[39;49m\u001b[43mframe\u001b[49m\u001b[43m,\u001b[49m\n\u001b[0;32m    338\u001b[0m \u001b[43m    \u001b[49m\u001b[43mvars_only\u001b[49m\u001b[38;5;241;43m=\u001b[39;49m\u001b[43mvars_only\u001b[49m\u001b[43m,\u001b[49m\n\u001b[0;32m    339\u001b[0m \u001b[43m\u001b[49m\u001b[43m)\u001b[49m\n\u001b[0;32m    340\u001b[0m \u001b[38;5;28;01mreturn\u001b[39;00m out \u001b[38;5;28;01mif\u001b[39;00m more_vars \u001b[38;5;28;01melse\u001b[39;00m out[\u001b[38;5;241m0\u001b[39m]\n",
      "File \u001b[1;32m~\\miniconda3\\envs\\F23rot\\lib\\site-packages\\varname\\core.py:506\u001b[0m, in \u001b[0;36margname\u001b[1;34m(arg, func, dispatch, frame, ignore, vars_only, *more_args)\u001b[0m\n\u001b[0;32m    504\u001b[0m source \u001b[38;5;241m=\u001b[39m argument_sources[farg_name]\n\u001b[0;32m    505\u001b[0m \u001b[38;5;28;01mif\u001b[39;00m \u001b[38;5;28misinstance\u001b[39m(source, ast\u001b[38;5;241m.\u001b[39mAST):\n\u001b[1;32m--> 506\u001b[0m     \u001b[38;5;28;01mraise\u001b[39;00m ImproperUseError(\n\u001b[0;32m    507\u001b[0m         \u001b[38;5;124mf\u001b[39m\u001b[38;5;124m\"\u001b[39m\u001b[38;5;124mArgument \u001b[39m\u001b[38;5;132;01m{\u001b[39;00mast\u001b[38;5;241m.\u001b[39mdump(source)\u001b[38;5;132;01m}\u001b[39;00m\u001b[38;5;124m is not a variable \u001b[39m\u001b[38;5;124m\"\u001b[39m\n\u001b[0;32m    508\u001b[0m         \u001b[38;5;124m\"\u001b[39m\u001b[38;5;124mor an attribute.\u001b[39m\u001b[38;5;124m\"\u001b[39m\n\u001b[0;32m    509\u001b[0m     )\n\u001b[0;32m    511\u001b[0m \u001b[38;5;28;01mif\u001b[39;00m \u001b[38;5;28misinstance\u001b[39m(farg_subscript, \u001b[38;5;28mint\u001b[39m) \u001b[38;5;129;01mand\u001b[39;00m \u001b[38;5;129;01mnot\u001b[39;00m \u001b[38;5;28misinstance\u001b[39m(source, \u001b[38;5;28mtuple\u001b[39m):\n\u001b[0;32m    512\u001b[0m     \u001b[38;5;28;01mraise\u001b[39;00m ImproperUseError(\n\u001b[0;32m    513\u001b[0m         \u001b[38;5;124mf\u001b[39m\u001b[38;5;124m\"\u001b[39m\u001b[38;5;124m`\u001b[39m\u001b[38;5;132;01m{\u001b[39;00mfarg_name\u001b[38;5;132;01m}\u001b[39;00m\u001b[38;5;124m` is not a positional argument.\u001b[39m\u001b[38;5;124m\"\u001b[39m\n\u001b[0;32m    514\u001b[0m     )\n",
      "\u001b[1;31mImproperUseError\u001b[0m: Argument Call(func=Name(id='str', ctx=Load()), args=[Subscript(value=Name(id='naive_data', ctx=Load()), slice=Constant(value=1), ctx=Load())], keywords=[]) is not a variable or an attribute."
     ]
    }
   ],
   "source": [
    "#You need to extract the Lane information\n",
    "\n",
    "def extract_name(set_of_datasets, name_of_dataset):\n",
    "    name_of_dataset = []\n",
    "    for i in range(0, len(set_of_datasets),1):\n",
    "        name_of_dataset.append(nameof(set_of_datasets[i]))\n",
    "    return name_of_dataset\n",
    "          "
   ]
  },
  {
   "cell_type": "code",
   "execution_count": null,
   "id": "4f89f955",
   "metadata": {},
   "outputs": [],
   "source": [
    "def function_time_spent_center(dataset):\n",
    "    time_spent_center = []\n",
    "    for i in range (0, len(dataset),1):\n",
    "        row = dataset.loc[i]\n",
    "        timespentcenter = row.Center_stop-row.Center_start\n",
    "        time_spent_center.append(timespentcenter)\n",
    "    total_time_center = np.nansum(time_spent_center)\n",
    "    return total_time_center\n",
    "\n",
    "def function_time_spent_right(dataset):\n",
    "    time_spent_right = []\n",
    "    for i in range(0, len(dataset),1):\n",
    "        row = dataset.loc[i]\n",
    "        timespentright = row.Right_stop - row.Right_start\n",
    "        time_spent_right.append(timespentright)\n",
    "    total_time_right = np.nansum(time_spent_right)\n",
    "    return total_time_right\n",
    "\n",
    "def function_time_spent_left(dataset):\n",
    "    time_spent_left = []\n",
    "    for i in range(0, len(dataset),1):\n",
    "        row = dataset.loc[i]\n",
    "        timespentleft = row.Left_stop - row.Left_start\n",
    "        time_spent_left.append(timespentleft)\n",
    "    total_time_left = np.nansum(time_spent_left)\n",
    "    return total_time_left\n",
    "\n",
    "def function_time_contact_right(dataset):\n",
    "    time_contact_right = []\n",
    "    for i in range(0, len(dataset),1):\n",
    "        row = dataset.loc[i]\n",
    "        timecontactright = row.Contact_Right_stop - row.Contact_Right_start\n",
    "        time_contact_right.append(timecontactright)\n",
    "    total_contact_right = np.nansum(time_contact_right)\n",
    "    return total_contact_right\n",
    "    \n",
    "def function_time_contact_left(dataset):\n",
    "    time_contact_left = []\n",
    "    for i in range(0, len(dataset),1):\n",
    "        row = dataset.loc[i]\n",
    "        timecontactleft = row.Contact_Left_stop - row.Contact_Left_start\n",
    "        time_contact_left.append(timecontactleft)\n",
    "    total_contact_left = np.nansum(time_contact_left)\n",
    "    return total_contact_left\n",
    "\n",
    "\n",
    "\n",
    "\n",
    "\n",
    "\n",
    "\n",
    "\n",
    "\n",
    "\n",
    "#I have decided that huddling is unbroken time in contact greater than 20 seconds\n",
    "def function_time_huddling_right(dataset):\n",
    "    time_huddling_right = []\n",
    "    for i in range (0, len(dataset),1):\n",
    "        row = dataset.loc[i]\n",
    "        timecontactright = row.Contact_Right_stop - row.Contact_Right_start\n",
    "        if timecontactright >= 20:\n",
    "            time_huddling_right.append(timecontactright)\n",
    "    return time_huddling_right\n",
    "\n",
    "def function_time_huddling_left(dataset):\n",
    "    time_huddling_left = []\n",
    "    for i in range (0, len(dataset),1):\n",
    "        row = dataset.loc[i]\n",
    "        timecontactleft = row.Contact_Left_stop - row.Contact_Left_start\n",
    "        if timecontactleft >= 20:\n",
    "            time_huddling_left.append(timecontactleft)\n",
    "    return time_huddling_left"
   ]
  },
  {
   "cell_type": "code",
   "execution_count": null,
   "id": "757240f7",
   "metadata": {},
   "outputs": [],
   "source": [
    "t_huddle_left = []\n",
    "t_huddle_right = []\n",
    "huddle_instances_left = []\n",
    "huddle_instances_right = []\n",
    "\n",
    "for i in range (0, len(naive_data),1):\n",
    "    t_huddle_left.append(np.nansum(function_time_huddling_left(naive_data[i])))\n",
    "    t_huddle_right.append(np.nansum(function_time_huddling_right(naive_data[i])))\n",
    "    huddle_instances_left.append(len(function_time_huddling_left(naive_data[i])))\n",
    "    huddle_instances_right.append(len(function_time_huddling_right(naive_data[i])))"
   ]
  },
  {
   "cell_type": "code",
   "execution_count": null,
   "id": "9f111e7c",
   "metadata": {},
   "outputs": [],
   "source": [
    "huddling_time_data = pd.DataFrame()\n",
    "\n",
    "huddling_time_data.insert(loc = 0,\n",
    "                      column = 'Lane',\n",
    "                      value = Lane)\n",
    "huddling_time_data.insert(loc = 1,\n",
    "                      column = 'Huddling_time_L',\n",
    "                      value = t_huddle_left)\n",
    "huddling_time_data.insert(loc = 2,\n",
    "                      column = 'Huddling_instances_L',\n",
    "                      value = huddle_instances_left)\n",
    "huddling_time_data.insert(loc = 3,\n",
    "                      column = 'Huddling_time_R',\n",
    "                      value = t_huddle_right)\n",
    "huddling_time_data.insert(loc = 4,\n",
    "                      column = 'Huddling_instances_R',\n",
    "                      value = huddle_instances_right)\n",
    "\n",
    "huddling_time_data"
   ]
  },
  {
   "cell_type": "code",
   "execution_count": null,
   "id": "c288f2fe",
   "metadata": {},
   "outputs": [],
   "source": [
    "#Winner versus loser? Left up (+), Right Down (-)\n",
    "\n",
    "Winnervalue = []\n",
    "for i in range (0, len(huddling_time_data),1):\n",
    "    left = huddling_time_data.Huddling_time_L[i]\n",
    "    right = huddling_time_data.Huddling_time_R[i]\n",
    "    difference = left - right\n",
    "    total = left + right\n",
    "    ratio = difference/total\n",
    "    Winnervalue.append(ratio)\n",
    "    \n",
    "Winnervalue"
   ]
  },
  {
   "cell_type": "code",
   "execution_count": null,
   "id": "3a55c464",
   "metadata": {},
   "outputs": [],
   "source": [
    "huddling_time_data.insert(loc = 5,\n",
    "                      column = 'Preference_ratio',\n",
    "                      value = Winnervalue)\n",
    "\n",
    "huddling_time_data"
   ]
  },
  {
   "cell_type": "code",
   "execution_count": null,
   "id": "cb0dfa75",
   "metadata": {},
   "outputs": [],
   "source": [
    "#Let's make a function to plot huddling data\n",
    "\n",
    "\n",
    "\n",
    "\n",
    "sns.set_theme()\n",
    "sns.relplot(\n",
    "    data= huddling_time_data, kind = \"scatter\",\n",
    "    x=\"Lane\", y=\"Preference_ratio\", #col=\"time\",\n",
    "    #hue=\"Left\", #style=\"Left\", #size=\"size\",\n",
    ")"
   ]
  }
 ],
 "metadata": {
  "kernelspec": {
   "display_name": "Python 3 (ipykernel)",
   "language": "python",
   "name": "python3"
  },
  "language_info": {
   "codemirror_mode": {
    "name": "ipython",
    "version": 3
   },
   "file_extension": ".py",
   "mimetype": "text/x-python",
   "name": "python",
   "nbconvert_exporter": "python",
   "pygments_lexer": "ipython3",
   "version": "3.10.9"
  }
 },
 "nbformat": 4,
 "nbformat_minor": 5
}
